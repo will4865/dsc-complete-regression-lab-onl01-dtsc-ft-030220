{
 "cells": [
  {
   "cell_type": "markdown",
   "metadata": {},
   "source": [
    "# Complete Regression - Lab\n",
    "\n",
    "## Introduction\n",
    "By now, you have created all the necessary functions to calculate the slope, intercept, best-fit line, prediction, and visualizations. In this lab you will put them all together to run a regression experiment and calculate the model loss. \n",
    "\n",
    "## Objectives\n",
    "\n",
    "You will be able to:\n",
    "\n",
    "* Perform a linear regression using self-constructed functions\n",
    "* Calculate the coefficient of determination using self-constructed functions\n",
    "* Use the coefficient of determination to determine model performance\n",
    "\n",
    "## The formulas\n",
    "\n",
    "**Slope**: \n",
    "$\\hat m = \\dfrac{\\overline{x}*\\overline{y}-\\overline{xy}}{(\\overline{x})^2-\\overline{x^2}}$\n",
    "\n",
    "\n",
    "**Intercept**: $ \\hat c = \\bar{y} - \\hat m\\bar{x}$\n",
    "\n",
    "**Prediction**: $\\hat{y} = \\hat mx + \\hat c$\n",
    "\n",
    "**R-Squared**: \n",
    "$ R^2 = 1- \\dfrac{SS_{RES}}{SS_{TOT}} = 1 - \\dfrac{\\sum_i(y_i - \\hat y_i)^2}{\\sum_i(y_i - \\overline y_i)^2} $\n",
    "\n",
    "\n",
    "Use the Python functions created earlier to implement these formulas to run a regression analysis using x and y as input variables. "
   ]
  },
  {
   "cell_type": "code",
   "execution_count": 1,
   "metadata": {
    "ExecuteTime": {
     "end_time": "2020-04-13T19:24:56.460547Z",
     "start_time": "2020-04-13T19:24:55.772303Z"
    }
   },
   "outputs": [],
   "source": [
    "# Combine all the functions created so far to run a complete regression experiment. \n",
    "# Produce an output similar to the one shown below. \n",
    "import numpy as np\n",
    "import matplotlib.pyplot as plt\n",
    "from matplotlib import style\n",
    "style.use('ggplot')\n",
    "%matplotlib inline\n",
    "X = np.array([1, 2, 3, 4, 5, 6, 7, 8, 9, 10], dtype=np.float64)\n",
    "Y = np.array([7, 7, 8, 9, 9, 10, 10, 11, 11, 12], dtype=np.float64)"
   ]
  },
  {
   "cell_type": "markdown",
   "metadata": {},
   "source": [
    "# Calculate Slope #"
   ]
  },
  {
   "cell_type": "code",
   "execution_count": 6,
   "metadata": {
    "ExecuteTime": {
     "end_time": "2020-04-13T19:27:59.197011Z",
     "start_time": "2020-04-13T19:27:59.189216Z"
    }
   },
   "outputs": [
    {
     "data": {
      "text/plain": [
       "0.5575757575757568"
      ]
     },
     "execution_count": 6,
     "metadata": {},
     "output_type": "execute_result"
    }
   ],
   "source": [
    "def calc_slope(xs,ys):\n",
    "    x_bar = sum(xs)/len(xs)\n",
    "    y_bar = sum(ys)/len(ys)\n",
    "    x_times_y_bar = sum(xs*ys)/len(xs*ys)\n",
    "    x_squared_bar = sum(xs**2)/len(xs**2)\n",
    "    return (x_bar * y_bar - x_times_y_bar) / (x_bar**2 - x_squared_bar)\n",
    "    pass\n",
    "calc_slope(X,Y)"
   ]
  },
  {
   "cell_type": "markdown",
   "metadata": {},
   "source": [
    "# Calculate Best Fit Line #"
   ]
  },
  {
   "cell_type": "code",
   "execution_count": 7,
   "metadata": {
    "ExecuteTime": {
     "end_time": "2020-04-13T19:28:10.258404Z",
     "start_time": "2020-04-13T19:28:10.252355Z"
    }
   },
   "outputs": [
    {
     "data": {
      "text/plain": [
       "(0.5575757575757568, 6.3333333333333375)"
      ]
     },
     "execution_count": 7,
     "metadata": {},
     "output_type": "execute_result"
    }
   ],
   "source": [
    "def best_fit(xs,ys):\n",
    "    slope=calc_slope(xs,ys)\n",
    "    x_bar=x_bar = sum(xs)/len(xs)\n",
    "    y_bar = sum(ys)/len(ys)\n",
    "    intercept=y_bar - slope*x_bar\n",
    "    return slope,intercept\n",
    "m,c = best_fit(X,Y)\n",
    "best_fit(X,Y)"
   ]
  },
  {
   "cell_type": "markdown",
   "metadata": {},
   "source": [
    "# Calculate Regression Line #"
   ]
  },
  {
   "cell_type": "code",
   "execution_count": 8,
   "metadata": {
    "ExecuteTime": {
     "end_time": "2020-04-13T19:28:22.433841Z",
     "start_time": "2020-04-13T19:28:22.428449Z"
    }
   },
   "outputs": [
    {
     "data": {
      "text/plain": [
       "[6.890909090909094,\n",
       " 7.448484848484851,\n",
       " 8.006060606060608,\n",
       " 8.563636363636364,\n",
       " 9.121212121212121,\n",
       " 9.67878787878788,\n",
       " 10.236363636363635,\n",
       " 10.793939393939393,\n",
       " 11.351515151515148,\n",
       " 11.909090909090907]"
      ]
     },
     "execution_count": 8,
     "metadata": {},
     "output_type": "execute_result"
    }
   ],
   "source": [
    "def reg_line (m, c, xs):\n",
    "    return [m*x+c for x in xs]\n",
    "    pass\n",
    "\n",
    "# Uncomment below\n",
    "regression_line = reg_line(m,c,X)\n",
    "regression_line"
   ]
  },
  {
   "cell_type": "markdown",
   "metadata": {},
   "source": [
    "# Calculate R-Squared #"
   ]
  },
  {
   "cell_type": "code",
   "execution_count": 10,
   "metadata": {
    "ExecuteTime": {
     "end_time": "2020-04-13T19:31:45.445253Z",
     "start_time": "2020-04-13T19:31:45.439973Z"
    }
   },
   "outputs": [
    {
     "data": {
      "text/plain": [
       "0.7515151515151492"
      ]
     },
     "execution_count": 10,
     "metadata": {},
     "output_type": "execute_result"
    }
   ],
   "source": [
    "def sq_err(y_real, y_predicted):\n",
    "    return np.sum((y_real - y_predicted)**2)\n",
    "sq_err(Y,regression_line)"
   ]
  },
  {
   "cell_type": "code",
   "execution_count": 12,
   "metadata": {
    "ExecuteTime": {
     "end_time": "2020-04-13T19:34:35.510095Z",
     "start_time": "2020-04-13T19:34:35.505640Z"
    }
   },
   "outputs": [],
   "source": [
    "def r_squared(y_real, y_predicted):\n",
    "    y_bar = sum(y_real)/len(y_real)\n",
    "    SSE = round(sq_err(y_real,y_predicted),2)\n",
    "    SST=0\n",
    "    for n in y_real:\n",
    "        SST += (n-y_bar)**2\n",
    "    return round(1-(SSE/SST),2)\n",
    "    pass\n",
    "r2=r_squared(Y,regression_line)"
   ]
  },
  {
   "cell_type": "code",
   "execution_count": 19,
   "metadata": {
    "ExecuteTime": {
     "end_time": "2020-04-13T19:36:53.602935Z",
     "start_time": "2020-04-13T19:36:53.598274Z"
    }
   },
   "outputs": [
    {
     "name": "stdout",
     "output_type": "stream",
     "text": [
      "Basic Regression Diagnostics\n",
      "Slope:  0.56\n",
      "Y-Intercept:  6.33\n",
      "R-Squared:  0.97\n",
      "Model: Y = 0.56 * X + 6.33\n"
     ]
    }
   ],
   "source": [
    "print('Basic Regression Diagnostics')\n",
    "print('Slope: ', round(m,2))\n",
    "print('Y-Intercept: ', round(c,2))\n",
    "print('R-Squared: ', r2)\n",
    "print('Model: Y =', round(m,2), '* X +', round(c,2))"
   ]
  },
  {
   "cell_type": "code",
   "execution_count": 24,
   "metadata": {
    "ExecuteTime": {
     "end_time": "2020-04-13T19:39:27.855813Z",
     "start_time": "2020-04-13T19:39:27.650655Z"
    }
   },
   "outputs": [
    {
     "data": {
      "text/plain": [
       "<matplotlib.legend.Legend at 0x11e537fd0>"
      ]
     },
     "execution_count": 24,
     "metadata": {},
     "output_type": "execute_result"
    },
    {
     "data": {
      "image/png": "[encoded data removed]",
      "text/plain": [
       "<Figure size 720x360 with 1 Axes>"
      ]
     },
     "metadata": {
      "needs_background": "light"
     },
     "output_type": "display_data"
    }
   ],
   "source": [
    "fig,ax=plt.subplots(figsize=(10,5))\n",
    "ax1=plt.scatter(X,Y, color='blue', label='data')\n",
    "ax2=plt.plot(X,regression_line,color='red', label='regression line')\n",
    "plt.legend()"
   ]
  },
  {
   "cell_type": "code",
   "execution_count": 70,
   "metadata": {
    "scrolled": true
   },
   "outputs": [
    {
     "name": "stdout",
     "output_type": "stream",
     "text": [
      "Basic Regression Diagnostics\n",
      "----------------------------\n",
      "Slope: 0.56\n",
      "Y-Intercept: 6.33\n",
      "R-Squared: 0.97\n",
      "----------------------------\n",
      "Model: Y = 0.56 * X + 6.33\n"
     ]
    },
    {
     "data": {
      "image/png": "[encoded data removed]",
      "text/plain": [
       "<matplotlib.figure.Figure at 0x1a180b14a8>"
      ]
     },
     "metadata": {},
     "output_type": "display_data"
    }
   ],
   "source": [
    "# Basic Regression Diagnostics\n",
    "# ----------------------------\n",
    "# Slope: 0.56\n",
    "# Y-Intercept: 6.33\n",
    "# R-Squared: 0.97\n",
    "# ----------------------------\n",
    "# Model: Y = 0.56 * X + 6.33"
   ]
  },
  {
   "cell_type": "markdown",
   "metadata": {},
   "source": [
    "## Make Predictions\n",
    "\n",
    "Predict and plot the value of y using regression line above for a new value of $x = 4.5$."
   ]
  },
  {
   "cell_type": "code",
   "execution_count": 28,
   "metadata": {
    "ExecuteTime": {
     "end_time": "2020-04-13T19:42:08.855690Z",
     "start_time": "2020-04-13T19:42:08.852672Z"
    }
   },
   "outputs": [],
   "source": [
    "x_new = 4.5\n",
    "y_prediction = x_new*m+c"
   ]
  },
  {
   "cell_type": "code",
   "execution_count": 31,
   "metadata": {
    "ExecuteTime": {
     "end_time": "2020-04-13T19:42:46.270191Z",
     "start_time": "2020-04-13T19:42:46.060331Z"
    }
   },
   "outputs": [
    {
     "data": {
      "text/plain": [
       "<matplotlib.legend.Legend at 0x11e98e860>"
      ]
     },
     "execution_count": 31,
     "metadata": {},
     "output_type": "execute_result"
    },
    {
     "data": {
      "image/png": "[encoded data removed]",
      "text/plain": [
       "<Figure size 720x360 with 1 Axes>"
      ]
     },
     "metadata": {
      "needs_background": "light"
     },
     "output_type": "display_data"
    }
   ],
   "source": [
    "# Make prediction for x = 4.5 and visualize on the scatter plot\n",
    "fig,ax=plt.subplots(figsize=(10,5))\n",
    "ax1=plt.scatter(X,Y, color='blue', label='data')\n",
    "ax2=plt.plot(X,regression_line,color='red', label='regression line')\n",
    "ax3=plt.scatter(x_new,y_prediction, color='green', label='prediction value')\n",
    "plt.legend()"
   ]
  },
  {
   "cell_type": "markdown",
   "metadata": {},
   "source": [
    "## Level up - Optional \n",
    "Load the \"`heightweight.csv`\" dataset. Use the height as an independent and weight as a dependent variable and draw a regression line to data using your code above. Calculate your R-Squared value for the model and try to predict new values of y. \n",
    "\n",
    "## Summary\n",
    "\n",
    "In this lab, we ran a complete simple regression analysis experiment using functions created so far. Next up, you'll learn how you can use Python's built-in modules to perform similar analyses with a much higher level of sophistication. "
   ]
  },
  {
   "cell_type": "code",
   "execution_count": 32,
   "metadata": {
    "ExecuteTime": {
     "end_time": "2020-04-13T19:43:24.408430Z",
     "start_time": "2020-04-13T19:43:23.802472Z"
    }
   },
   "outputs": [],
   "source": [
    "import pandas as pd"
   ]
  },
  {
   "cell_type": "code",
   "execution_count": 40,
   "metadata": {
    "ExecuteTime": {
     "end_time": "2020-04-13T19:45:58.220969Z",
     "start_time": "2020-04-13T19:45:58.213683Z"
    }
   },
   "outputs": [
    {
     "data": {
      "text/plain": [
       "(array([68, 71, 61, 69, 71, 58, 72, 73, 58, 74, 61, 59, 69, 68, 64, 69, 72,\n",
       "        66, 65, 69]),\n",
       " array([165, 201, 140, 170, 192, 125, 195, 205, 115, 210, 135, 125, 172,\n",
       "        175, 145, 170, 200, 155, 150, 171]))"
      ]
     },
     "execution_count": 40,
     "metadata": {},
     "output_type": "execute_result"
    }
   ],
   "source": [
    "df=pd.read_csv('heightweight.csv')\n",
    "X = np.array(df.height)\n",
    "Y = np.array(df.weight)\n",
    "X,Y"
   ]
  },
  {
   "cell_type": "code",
   "execution_count": 41,
   "metadata": {
    "ExecuteTime": {
     "end_time": "2020-04-13T19:46:01.795800Z",
     "start_time": "2020-04-13T19:46:01.789408Z"
    }
   },
   "outputs": [
    {
     "data": {
      "text/plain": [
       "5.539019232705614"
      ]
     },
     "execution_count": 41,
     "metadata": {},
     "output_type": "execute_result"
    }
   ],
   "source": [
    "def calc_slope(xs,ys):\n",
    "    x_bar = sum(xs)/len(xs)\n",
    "    y_bar = sum(ys)/len(ys)\n",
    "    x_times_y_bar = sum(xs*ys)/len(xs*ys)\n",
    "    x_squared_bar = sum(xs**2)/len(xs**2)\n",
    "    return (x_bar * y_bar - x_times_y_bar) / (x_bar**2 - x_squared_bar)\n",
    "    pass\n",
    "calc_slope(X,Y)"
   ]
  },
  {
   "cell_type": "code",
   "execution_count": 42,
   "metadata": {
    "ExecuteTime": {
     "end_time": "2020-04-13T19:46:23.858174Z",
     "start_time": "2020-04-13T19:46:23.852264Z"
    }
   },
   "outputs": [
    {
     "data": {
      "text/plain": [
       "(5.539019232705614, -204.48343570637024)"
      ]
     },
     "execution_count": 42,
     "metadata": {},
     "output_type": "execute_result"
    }
   ],
   "source": [
    "def best_fit(xs,ys):\n",
    "    slope=calc_slope(xs,ys)\n",
    "    x_bar=x_bar = sum(xs)/len(xs)\n",
    "    y_bar = sum(ys)/len(ys)\n",
    "    intercept=y_bar - slope*x_bar\n",
    "    return slope,intercept\n",
    "m,c = best_fit(X,Y)\n",
    "best_fit(X,Y)"
   ]
  },
  {
   "cell_type": "code",
   "execution_count": 43,
   "metadata": {
    "ExecuteTime": {
     "end_time": "2020-04-13T19:47:38.151894Z",
     "start_time": "2020-04-13T19:47:38.146497Z"
    }
   },
   "outputs": [
    {
     "data": {
      "text/plain": [
       "[172.16987211761148,\n",
       " 188.78692981572834,\n",
       " 133.39673748867216,\n",
       " 177.70889135031712,\n",
       " 188.78692981572834,\n",
       " 116.77967979055535,\n",
       " 194.32594904843393,\n",
       " 199.86496828113957,\n",
       " 116.77967979055535,\n",
       " 205.40398751384515,\n",
       " 133.39673748867216,\n",
       " 122.31869902326093,\n",
       " 177.70889135031712,\n",
       " 172.16987211761148,\n",
       " 150.01379518678903,\n",
       " 177.70889135031712,\n",
       " 194.32594904843393,\n",
       " 161.09183365220025,\n",
       " 155.55281441949467,\n",
       " 177.70889135031712]"
      ]
     },
     "execution_count": 43,
     "metadata": {},
     "output_type": "execute_result"
    }
   ],
   "source": [
    "def reg_line (m, c, xs):\n",
    "    return [m*x+c for x in xs]\n",
    "    pass\n",
    "\n",
    "regression_line = reg_line(m,c,X)\n",
    "regression_line"
   ]
  },
  {
   "cell_type": "code",
   "execution_count": 44,
   "metadata": {
    "ExecuteTime": {
     "end_time": "2020-04-13T19:48:02.950709Z",
     "start_time": "2020-04-13T19:48:02.945628Z"
    }
   },
   "outputs": [
    {
     "data": {
      "text/plain": [
       "712.681502366329"
      ]
     },
     "execution_count": 44,
     "metadata": {},
     "output_type": "execute_result"
    }
   ],
   "source": [
    "def sq_err(y_real, y_predicted):\n",
    "    return np.sum((y_real - y_predicted)**2)\n",
    "sq_err(Y,regression_line)"
   ]
  },
  {
   "cell_type": "code",
   "execution_count": 45,
   "metadata": {
    "ExecuteTime": {
     "end_time": "2020-04-13T19:48:28.630217Z",
     "start_time": "2020-04-13T19:48:28.625470Z"
    }
   },
   "outputs": [],
   "source": [
    "def r_squared(y_real, y_predicted):\n",
    "    y_bar = sum(y_real)/len(y_real)\n",
    "    SSE = round(sq_err(y_real,y_predicted),2)\n",
    "    SST=0\n",
    "    for n in y_real:\n",
    "        SST += (n-y_bar)**2\n",
    "    return round(1-(SSE/SST),2)\n",
    "    pass\n",
    "r2=r_squared(Y,regression_line)"
   ]
  },
  {
   "cell_type": "code",
   "execution_count": 46,
   "metadata": {
    "ExecuteTime": {
     "end_time": "2020-04-13T19:48:39.790955Z",
     "start_time": "2020-04-13T19:48:39.786024Z"
    }
   },
   "outputs": [
    {
     "name": "stdout",
     "output_type": "stream",
     "text": [
      "Basic Regression Diagnostics\n",
      "Slope:  5.54\n",
      "Y-Intercept:  -204.48\n",
      "R-Squared:  0.96\n",
      "Model: Y = 5.54 * X + -204.48\n"
     ]
    }
   ],
   "source": [
    "print('Basic Regression Diagnostics')\n",
    "print('Slope: ', round(m,2))\n",
    "print('Y-Intercept: ', round(c,2))\n",
    "print('R-Squared: ', r2)\n",
    "print('Model: Y =', round(m,2), '* X +', round(c,2))"
   ]
  },
  {
   "cell_type": "code",
   "execution_count": 47,
   "metadata": {
    "ExecuteTime": {
     "end_time": "2020-04-13T19:49:03.690253Z",
     "start_time": "2020-04-13T19:49:03.473875Z"
    }
   },
   "outputs": [
    {
     "data": {
      "text/plain": [
       "<matplotlib.legend.Legend at 0x1203184e0>"
      ]
     },
     "execution_count": 47,
     "metadata": {},
     "output_type": "execute_result"
    },
    {
     "data": {
      "image/png": "[encoded data removed]",
      "text/plain": [
       "<Figure size 720x360 with 1 Axes>"
      ]
     },
     "metadata": {
      "needs_background": "light"
     },
     "output_type": "display_data"
    }
   ],
   "source": [
    "fig,ax=plt.subplots(figsize=(10,5))\n",
    "ax1=plt.scatter(X,Y, color='blue', label='data')\n",
    "ax2=plt.plot(X,regression_line,color='red', label='regression line')\n",
    "plt.legend()"
   ]
  },
  {
   "cell_type": "code",
   "execution_count": 50,
   "metadata": {
    "ExecuteTime": {
     "end_time": "2020-04-13T19:51:03.353567Z",
     "start_time": "2020-04-13T19:51:03.349010Z"
    }
   },
   "outputs": [
    {
     "data": {
      "text/plain": [
       "183.2479105830227"
      ]
     },
     "execution_count": 50,
     "metadata": {},
     "output_type": "execute_result"
    }
   ],
   "source": [
    "x_new = 70\n",
    "y_prediction = x_new*m+c\n",
    "y_prediction"
   ]
  },
  {
   "cell_type": "code",
   "execution_count": 49,
   "metadata": {
    "ExecuteTime": {
     "end_time": "2020-04-13T19:50:52.383267Z",
     "start_time": "2020-04-13T19:50:52.158332Z"
    }
   },
   "outputs": [
    {
     "data": {
      "text/plain": [
       "<matplotlib.legend.Legend at 0x120397d30>"
      ]
     },
     "execution_count": 49,
     "metadata": {},
     "output_type": "execute_result"
    },
    {
     "data": {
      "image/png": "[encoded data removed]",
      "text/plain": [
       "<Figure size 720x360 with 1 Axes>"
      ]
     },
     "metadata": {
      "needs_background": "light"
     },
     "output_type": "display_data"
    }
   ],
   "source": [
    "fig,ax=plt.subplots(figsize=(10,5))\n",
    "ax1=plt.scatter(X,Y, color='blue', label='data')\n",
    "ax2=plt.plot(X,regression_line,color='red', label='regression line')\n",
    "ax3=plt.scatter(x_new,y_prediction, color='green', label='prediction value')\n",
    "plt.legend()"
   ]
  },
  {
   "cell_type": "code",
   "execution_count": null,
   "metadata": {},
   "outputs": [],
   "source": []
  }
 ],
 "metadata": {
  "kernelspec": {
   "display_name": "Python 3",
   "language": "python",
   "name": "python3"
  },
  "language_info": {
   "codemirror_mode": {
    "name": "ipython",
    "version": 3
   },
   "file_extension": ".py",
   "mimetype": "text/x-python",
   "name": "python",
   "nbconvert_exporter": "python",
   "pygments_lexer": "ipython3",
   "version": "3.6.9"
  }
 },
 "nbformat": 4,
 "nbformat_minor": 2
}
